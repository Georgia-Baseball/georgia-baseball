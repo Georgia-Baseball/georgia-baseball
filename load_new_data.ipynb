{
 "metadata": {
  "orig_nbformat": 2,
  "kernelspec": {
   "name": "new_env",
   "display_name": "Python 3.11 (new_env)",
   "language": "python"
  }
 },
 "nbformat": 4,
 "nbformat_minor": 2,
 "cells": [
  {
   "cell_type": "code",
   "execution_count": 1,
   "metadata": {},
   "outputs": [
    {
     "output_type": "stream",
     "name": "stderr",
     "text": [
      "/var/folders/l7/wzwhjfv129l1wmlklwpt_j_r0000gn/T/ipykernel_47803/625577362.py:13: FutureWarning: The behavior of DataFrame concatenation with empty or all-NA entries is deprecated. In a future version, this will no longer exclude empty or all-NA columns when determining the result dtypes. To retain the old behavior, exclude the relevant entries before the concat operation.\n",
      "  final_df = pd.concat(df_list, ignore_index=True)\n",
      "/var/folders/l7/wzwhjfv129l1wmlklwpt_j_r0000gn/T/ipykernel_47803/625577362.py:51: DtypeWarning: Columns (23) have mixed types. Specify dtype option on import or set low_memory=False.\n",
      "  pitches_df = pd.read_csv('all_pitches.csv')\n"
     ]
    }
   ],
   "source": [
    "import pandas as pd\n",
    "import glob\n",
    "import os\n",
    "import re\n",
    "from constants import columns_to_keep\n",
    "\n",
    "### CHANGE THIS LINE WITH THE CORRECT FOLDER\n",
    "folder_path = \"2025\"\n",
    "\n",
    "csv_files = [file for file in glob.glob(os.path.join(folder_path, \"**\", \"*.csv\"), recursive=True)\n",
    "             if \"playerpositioning\" not in os.path.basename(file).lower()]\n",
    "\n",
    "df_list = [pd.read_csv(file) for file in csv_files]\n",
    "final_df = pd.concat(df_list, ignore_index=True)\n",
    "\n",
    "def impute_missing_columns(df):\n",
    "    default_values = {\n",
    "        'PAofInning': 1,\n",
    "        'BatterTeam': 'GEO_BUL',\n",
    "        'Inning': 1,\n",
    "        'Top/Bottom': 'Top',\n",
    "        'Outs': 1,\n",
    "        'Balls': 1,\n",
    "        'Strikes': 1,\n",
    "        'AutoPitchType': 'NA',\n",
    "        'PitchCall': 'NA',\n",
    "        'PlayResult': 'NA',\n",
    "        'OutsOnPlay': 'NA',\n",
    "        'RunsScored': 'NA',\n",
    "        'HomeTeam': 'GEO_PRA',\n",
    "        'AwayTeam': 'GEO_PRA',\n",
    "        'Level': 'D1',\n",
    "        'League': 'SEC',\n",
    "        'GameUID': 'NA'\n",
    "    }\n",
    "\n",
    "    for col, value in default_values.items():\n",
    "        if col not in df.columns:\n",
    "            df[col] = value\n",
    "\n",
    "    if all(col in df.columns for col in ['PitchNo', 'Date', 'Time']):\n",
    "        df['PitchUID'] = df['PitchNo'].astype(str) + df['Date'].astype(str) + df['Time'].astype(str)\n",
    "        df['PitchUID'] = df['PitchUID'].apply(lambda x: ''.join(re.findall(r'\\d+', x)))\n",
    "\n",
    "    if 'Date' in df.columns:\n",
    "        df['UTCDateTime'] = pd.to_datetime(df['Date']).dt.strftime('%Y-%m-%dT00:00:00.000Z')\n",
    "\n",
    "    return df\n",
    "\n",
    "final_df = impute_missing_columns(final_df)\n",
    "\n",
    "pitches_df = pd.read_csv('all_pitches.csv')\n",
    "final_df = final_df[columns_to_keep]\n",
    "pitches_df = pd.concat([pitches_df, final_df], ignore_index=True)\n",
    "\n",
    "pitches_df = pitches_df.drop_duplicates().reset_index(drop=True)\n",
    "pitches_df.to_csv('all_pitches.csv')"
   ]
  }
 ]
}