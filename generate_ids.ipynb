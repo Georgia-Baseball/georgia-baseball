{
 "metadata": {
  "language_info": {
   "codemirror_mode": {
    "name": "ipython",
    "version": 3
   },
   "file_extension": ".py",
   "mimetype": "text/x-python",
   "name": "python",
   "nbconvert_exporter": "python",
   "pygments_lexer": "ipython3",
   "version": 3
  },
  "orig_nbformat": 2
 },
 "nbformat": 4,
 "nbformat_minor": 2,
 "cells": [
  {
   "cell_type": "code",
   "execution_count": null,
   "metadata": {},
   "outputs": [],
   "source": [
    "import pandas as pd\n",
    "\n",
    "pitches_df = pd.read_csv('all_pitches.csv')\n",
    "\n",
    "def get_batter_df(pitches_df):\n",
    "    if pitches_df['UTCDateTime'].dtype == 'object':\n",
    "        pitches_df['UTCDateTime'] = pd.to_datetime(pitches_df['UTCDateTime'])\n",
    "\n",
    "    sorted_df = pitches_df.sort_values(by=['BatterId', 'Batter', 'UTCDateTime'], ascending=[True, True, False])\n",
    "\n",
    "    batter_df = sorted_df.drop_duplicates(subset=['BatterId', 'Batter'], keep='first')[['BatterId', 'Batter', 'BatterTeam']]\n",
    "\n",
    "    batter_df = batter_df.reset_index(drop=True)\n",
    "    \n",
    "    return batter_df\n",
    "\n",
    "def get_pitcher_df(pitches_df):\n",
    "    if pitches_df['UTCDateTime'].dtype == 'object':\n",
    "        pitches_df['UTCDateTime'] = pd.to_datetime(pitches_df['UTCDateTime'])\n",
    "\n",
    "    sorted_df = pitches_df.sort_values(by=['PitcherId', 'Pitcher', 'UTCDateTime'], ascending=[True, True, False])\n",
    "\n",
    "    pitcher_df = sorted_df.drop_duplicates(subset=['PitcherId', 'Pitcher'], keep='first')[['PitcherId', 'Pitcher', 'PitcherTeam']]\n",
    "\n",
    "    pitcher_df = pitcher_df.reset_index(drop=True)\n",
    "    \n",
    "    return pitcher_df\n",
    "\n",
    "\n",
    "def generate_id_csv(pitches_df, output_path='player_ids.csv'):\n",
    "    batter_df = get_batter_df(pitches_df)\n",
    "    pitcher_df = get_pitcher_df(pitches_df)\n",
    "\n",
    "    batter_df['Type'] = 'Batter'\n",
    "    pitcher_df['Type'] = 'Pitcher'\n",
    "\n",
    "    batter_df = batter_df.rename(columns={'BatterId': 'Id', 'Batter': 'Name', 'BatterTeam': 'Team'})\n",
    "    pitcher_df = pitcher_df.rename(columns={'PitcherId': 'Id', 'Pitcher': 'Name', 'PitcherTeam': 'Team'})\n",
    "\n",
    "    combined_df = pd.concat([batter_df, pitcher_df], ignore_index=True)\n",
    "    combined_df = combined_df.sort_values(by='Name', ascending=True)\n",
    "\n",
    "    combined_df.to_csv(output_path, index=False)\n",
    "\n",
    "    print(f\"CSV saved to {output_path}\")\n",
    "\n",
    "generate_id_csv(pitches_df)\n",
    "\n",
    "### RUN THIS WITHOUT EDITING"
   ]
  }
 ]
}