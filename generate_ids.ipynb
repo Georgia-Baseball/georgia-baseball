{
 "metadata": {
  "orig_nbformat": 2,
  "kernelspec": {
   "name": "new_env",
   "display_name": "Python 3.11 (new_env)",
   "language": "python"
  }
 },
 "nbformat": 4,
 "nbformat_minor": 2,
 "cells": [
  {
   "cell_type": "code",
   "execution_count": 1,
   "metadata": {},
   "outputs": [
    {
     "output_type": "stream",
     "name": "stderr",
     "text": [
      "/var/folders/l7/wzwhjfv129l1wmlklwpt_j_r0000gn/T/ipykernel_53525/3004900298.py:3: DtypeWarning: Columns (23,26,38,39,40,47) have mixed types. Specify dtype option on import or set low_memory=False.\n",
      "  pitches_df = pd.read_csv('all_pitches.csv')\n",
      "CSV saved to player_ids.csv\n"
     ]
    }
   ],
   "source": [
    "import pandas as pd\n",
    "\n",
    "pitches_df = pd.read_csv('all_pitches.csv')\n",
    "\n",
    "def get_batter_df(pitches_df):\n",
    "    if pitches_df['UTCDateTime'].dtype == 'object':\n",
    "        pitches_df['UTCDateTime'] = pd.to_datetime(pitches_df['UTCDateTime'])\n",
    "\n",
    "    sorted_df = pitches_df.sort_values(by=['BatterId', 'Batter', 'UTCDateTime'], ascending=[True, True, False])\n",
    "\n",
    "    batter_df = sorted_df.drop_duplicates(subset=['BatterId', 'Batter'], keep='first')[['BatterId', 'Batter', 'BatterTeam']]\n",
    "\n",
    "    batter_df = batter_df.reset_index(drop=True)\n",
    "    \n",
    "    return batter_df\n",
    "\n",
    "def get_pitcher_df(pitches_df):\n",
    "    if pitches_df['UTCDateTime'].dtype == 'object':\n",
    "        pitches_df['UTCDateTime'] = pd.to_datetime(pitches_df['UTCDateTime'])\n",
    "\n",
    "    sorted_df = pitches_df.sort_values(by=['PitcherId', 'Pitcher', 'UTCDateTime'], ascending=[True, True, False])\n",
    "\n",
    "    pitcher_df = sorted_df.drop_duplicates(subset=['PitcherId', 'Pitcher'], keep='first')[['PitcherId', 'Pitcher', 'PitcherTeam']]\n",
    "\n",
    "    pitcher_df = pitcher_df.reset_index(drop=True)\n",
    "    \n",
    "    return pitcher_df\n",
    "\n",
    "\n",
    "def generate_id_csv(pitches_df, output_path='player_ids.csv'):\n",
    "    batter_df = get_batter_df(pitches_df)\n",
    "    pitcher_df = get_pitcher_df(pitches_df)\n",
    "\n",
    "    batter_df['Type'] = 'Batter'\n",
    "    pitcher_df['Type'] = 'Pitcher'\n",
    "\n",
    "    batter_df = batter_df.rename(columns={'BatterId': 'Id', 'Batter': 'Name', 'BatterTeam': 'Team'})\n",
    "    pitcher_df = pitcher_df.rename(columns={'PitcherId': 'Id', 'Pitcher': 'Name', 'PitcherTeam': 'Team'})\n",
    "\n",
    "    combined_df = pd.concat([batter_df, pitcher_df], ignore_index=True)\n",
    "    combined_df = combined_df.sort_values(by='Name', ascending=True)\n",
    "\n",
    "    combined_df.to_csv(output_path, index=False)\n",
    "\n",
    "    print(f\"CSV saved to {output_path}\")\n",
    "\n",
    "generate_id_csv(pitches_df)\n",
    "\n",
    "### RUN THIS WITHOUT EDITING"
   ]
  }
 ]
}